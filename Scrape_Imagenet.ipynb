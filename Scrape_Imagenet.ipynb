{
 "cells": [
  {
   "cell_type": "code",
   "execution_count": 33,
   "metadata": {},
   "outputs": [],
   "source": [
    "from selenium import webdriver\n",
    "import pandas as pd\n",
    "import tqdm"
   ]
  },
  {
   "cell_type": "code",
   "execution_count": 38,
   "metadata": {},
   "outputs": [],
   "source": [
    "counter = 0\n",
    "for line in open('imagenet_image_urls.txt', 'r'):\n",
    "    try:\n",
    "        counter += 1\n",
    "        url = line.strip()\n",
    "        f = open('imagenet_images/' + str(counter) + '.jpg','wb')\n",
    "        f.write(requests.get(url).content)\n",
    "        f.close()\n",
    "    except:\n",
    "        continue"
   ]
  },
  {
   "cell_type": "code",
   "execution_count": 41,
   "metadata": {},
   "outputs": [],
   "source": [
    "dirname = '/Users/sarahnagy/Desktop/trilobite_bits_keras/imagenet_images_filtered'"
   ]
  },
  {
   "cell_type": "code",
   "execution_count": 50,
   "metadata": {
    "scrolled": true
   },
   "outputs": [
    {
     "name": "stdout",
     "output_type": "stream",
     "text": [
      "10\n",
      "100\n",
      "101\n",
      "103\n",
      "11\n",
      "110\n",
      "112\n",
      "12\n",
      "13\n",
      "14\n",
      "16\n",
      "17\n",
      "19\n",
      "2\n",
      "21\n",
      "25\n",
      "26\n",
      "28\n",
      "29\n",
      "30\n",
      "37\n",
      "42\n",
      "43\n",
      "44\n",
      "47\n",
      "48\n",
      "53\n",
      "57\n",
      "59\n",
      "65\n",
      "66\n",
      "68\n",
      "74\n",
      "75\n",
      "78\n",
      "79\n",
      "8\n",
      "86\n",
      "9\n",
      "95\n",
      "97\n",
      "98\n"
     ]
    }
   ],
   "source": [
    "import os\n",
    "for i, filename in enumerate(os.listdir(dirname)):\n",
    "    #os.rename(dirname + \"/\" + filename, dirname + \"/\" + str(counter) + \".jpg\")\n",
    "    print(int(filename.split('.')[0]))"
   ]
  },
  {
   "cell_type": "code",
   "execution_count": 48,
   "metadata": {},
   "outputs": [
    {
     "data": {
      "text/plain": [
       "10"
      ]
     },
     "execution_count": 48,
     "metadata": {},
     "output_type": "execute_result"
    }
   ],
   "source": [
    "int(os.listdir(dirname)[0].split('.')[0])"
   ]
  },
  {
   "cell_type": "code",
   "execution_count": 53,
   "metadata": {},
   "outputs": [],
   "source": [
    "counter = 1\n",
    "for num in sorted([int(filename.split('.')[0]) for filename in os.listdir(dirname)]):\n",
    "    os.rename(dirname + '/' + str(num) + '.jpg', dirname + '/' + str(counter) + '.jpg')\n",
    "    counter += 1"
   ]
  },
  {
   "cell_type": "code",
   "execution_count": null,
   "metadata": {},
   "outputs": [],
   "source": []
  }
 ],
 "metadata": {
  "kernelspec": {
   "display_name": "Python [conda env:dlfc]",
   "language": "python",
   "name": "conda-env-dlfc-py"
  },
  "language_info": {
   "codemirror_mode": {
    "name": "ipython",
    "version": 3
   },
   "file_extension": ".py",
   "mimetype": "text/x-python",
   "name": "python",
   "nbconvert_exporter": "python",
   "pygments_lexer": "ipython3",
   "version": "3.6.4"
  }
 },
 "nbformat": 4,
 "nbformat_minor": 2
}
