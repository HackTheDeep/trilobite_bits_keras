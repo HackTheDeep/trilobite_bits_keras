{
 "cells": [
  {
   "cell_type": "markdown",
   "metadata": {},
   "source": [
    "# Retinanet Experimenting"
   ]
  },
  {
   "cell_type": "markdown",
   "metadata": {},
   "source": [
    "## Create annotation and class maps"
   ]
  },
  {
   "cell_type": "code",
   "execution_count": 14,
   "metadata": {},
   "outputs": [],
   "source": [
    "import os"
   ]
  },
  {
   "cell_type": "code",
   "execution_count": 48,
   "metadata": {},
   "outputs": [],
   "source": [
    "def rewrite_arr(input_list):\n",
    "    output_list = []\n",
    "    for arr in input_list:\n",
    "        x1 = arr[0]\n",
    "        y1 = arr[1]\n",
    "        x2 = x1 + arr[2]\n",
    "        y2 = y1 + arr[3]\n",
    "        arr = [x1, y1, x2, y2]\n",
    "        output_list.append(arr)\n",
    "    return output_list"
   ]
  },
  {
   "cell_type": "code",
   "execution_count": 49,
   "metadata": {},
   "outputs": [],
   "source": [
    "results = []\n",
    "for file in os.listdir('imagenet_images_filtered/'):\n",
    "    name = file.split('.')[0]\n",
    "    try:\n",
    "        arr = ([[int(y) for y in x.split(',')[3:7]] for x in open('bounding_boxes/' + name + '.csv') \n",
    " if x.split(',')[0] != 'Index'])\n",
    "        arr = rewrite_arr(arr)\n",
    "        results.append(['imagenet_images_filtered/' + file] + [str(num) for num in arr[0]] + ['head'])\n",
    "        results.append(['imagenet_images_filtered/' + file] + [str(num) for num in arr[1]] + ['thorax'])\n",
    "        results.append(['imagenet_images_filtered/' + file] + [str(num) for num in arr[2]] + ['pagidium'])\n",
    "    except:\n",
    "        arr_a = ([[int(y) for y in x.split(',')[3:7]] for x in open('bounding_boxes/' + name + '_a.csv') \n",
    " if x.split(',')[0] != 'Index'])\n",
    "        arr_a = rewrite_arr(arr_a)\n",
    "        results.append(['imagenet_images_filtered/' + file] + [str(num) for num in arr_a[0]] + ['head'])\n",
    "        results.append(['imagenet_images_filtered/' + file] + [str(num) for num in arr_a[1]] + ['thorax'])\n",
    "        results.append(['imagenet_images_filtered/' + file] + [str(num) for num in arr_a[2]] + ['pagidium'])\n",
    "        arr_b = ([[int(y) for y in x.split(',')[3:7]] for x in open('bounding_boxes/' + name + '_b.csv') \n",
    " if x.split(',')[0] != 'Index'])\n",
    "        arr_b = rewrite_arr(arr_b)\n",
    "        results.append(['imagenet_images_filtered/' + file] + [str(num) for num in arr_b[0]] + ['head'])\n",
    "        results.append(['imagenet_images_filtered/' + file] + [str(num) for num in arr_b[1]] + ['thorax'])\n",
    "        results.append(['imagenet_images_filtered/' + file] + [str(num) for num in arr_b[2]] + ['pagidium'])"
   ]
  },
  {
   "cell_type": "code",
   "execution_count": 50,
   "metadata": {},
   "outputs": [],
   "source": [
    "import csv"
   ]
  },
  {
   "cell_type": "code",
   "execution_count": 51,
   "metadata": {},
   "outputs": [],
   "source": [
    "with open(\"annotations.csv\",'w') as resultFile:\n",
    "    wr = csv.writer(resultFile)\n",
    "    wr.writerows(results)"
   ]
  },
  {
   "cell_type": "code",
   "execution_count": 55,
   "metadata": {},
   "outputs": [],
   "source": [
    "class_map = [['head','0'],['thorax','1'],['pagidium','2']]"
   ]
  },
  {
   "cell_type": "code",
   "execution_count": 56,
   "metadata": {},
   "outputs": [],
   "source": [
    "with open(\"class_map.csv\",'w') as resultFile:\n",
    "    wr = csv.writer(resultFile)\n",
    "    wr.writerows(class_map)"
   ]
  },
  {
   "cell_type": "markdown",
   "metadata": {},
   "source": [
    "## Import retinanet"
   ]
  },
  {
   "cell_type": "code",
   "execution_count": 45,
   "metadata": {},
   "outputs": [
    {
     "name": "stdout",
     "output_type": "stream",
     "text": [
      "The autoreload extension is already loaded. To reload it, use:\n",
      "  %reload_ext autoreload\n"
     ]
    }
   ],
   "source": [
    "%matplotlib inline\n",
    "\n",
    "%load_ext autoreload\n",
    "%autoreload 2\n",
    "\n",
    "import keras\n",
    "\n",
    "from keras_retinanet.models.resnet import custom_objects\n",
    "from keras_retinanet.utils.image import read_image_bgr, preprocess_image, resize_image\n",
    "\n",
    "import matplotlib.pyplot as plt\n",
    "import cv2\n",
    "import os\n",
    "import numpy as np\n",
    "import time\n",
    "\n",
    "import tensorflow as tf\n",
    "\n",
    "def get_session():\n",
    "    config = tf.ConfigProto()\n",
    "    config.gpu_options.allow_growth = True\n",
    "    return tf.Session(config=config)\n",
    "\n",
    "keras.backend.tensorflow_backend.set_session(get_session())"
   ]
  },
  {
   "cell_type": "code",
   "execution_count": null,
   "metadata": {},
   "outputs": [],
   "source": [
    "%%bash\n",
    "\n",
    "source activate retinanet\n",
    "cd ~/Desktop/trilobite_bits_keras/\n",
    "~/Desktop/keras-retinanet/keras_retinanet/bin/train.py csv annotations.csv class_map.csv"
   ]
  },
  {
   "cell_type": "code",
   "execution_count": null,
   "metadata": {},
   "outputs": [],
   "source": []
  }
 ],
 "metadata": {
  "kernelspec": {
   "display_name": "Python [conda env:retinanet]",
   "language": "python",
   "name": "conda-env-retinanet-py"
  },
  "language_info": {
   "codemirror_mode": {
    "name": "ipython",
    "version": 3
   },
   "file_extension": ".py",
   "mimetype": "text/x-python",
   "name": "python",
   "nbconvert_exporter": "python",
   "pygments_lexer": "ipython3",
   "version": "3.6.4"
  }
 },
 "nbformat": 4,
 "nbformat_minor": 2
}
